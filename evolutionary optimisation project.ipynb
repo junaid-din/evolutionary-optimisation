{
 "cells": [
  {
   "cell_type": "markdown",
   "metadata": {},
   "source": [
    "# Evolutionary Optimisation project"
   ]
  },
  {
   "cell_type": "markdown",
   "metadata": {},
   "source": [
    "# Basic Scenario"
   ]
  },
  {
   "cell_type": "markdown",
   "metadata": {},
   "source": [
    "## 1. Write a function that calculates the distance between two words of equal length."
   ]
  },
  {
   "cell_type": "code",
   "execution_count": 8,
   "metadata": {},
   "outputs": [],
   "source": [
    "import random\n",
    "import numpy as np\n",
    "import matplotlib.pyplot as plt\n",
    "\n",
    "def distances(str1, str2):\n",
    "    dist = 0\n",
    "\n",
    "    for i in range(len(str1)):\n",
    "        if str1[i] != str2[i]:\n",
    "            dist = dist+1\n",
    "            \n",
    "    return dist"
   ]
  },
  {
   "cell_type": "markdown",
   "metadata": {},
   "source": [
    "The function defined in the above cell is the Hamming distance which counts the number of differences between strings"
   ]
  },
  {
   "cell_type": "code",
   "execution_count": 9,
   "metadata": {},
   "outputs": [
    {
     "data": {
      "text/plain": [
       "4"
      ]
     },
     "execution_count": 9,
     "metadata": {},
     "output_type": "execute_result"
    }
   ],
   "source": [
    "distances('1111','0000')"
   ]
  },
  {
   "cell_type": "markdown",
   "metadata": {},
   "source": [
    "## 2. Initialisation"
   ]
  },
  {
   "cell_type": "markdown",
   "metadata": {},
   "source": [
    "### 2.1 Use the first two lines of the Shakespeare sonnet number corresponding to the last two digits of your student number as a ‘master sequence’ \n",
    "\n",
    "The last two digits of my Student Number is '24' therefore, the first 2 lines of Shakespeare's 24th sonnet will be used for initialisation"
   ]
  },
  {
   "cell_type": "code",
   "execution_count": 10,
   "metadata": {},
   "outputs": [],
   "source": [
    "master_sequence = \"mine eye hath playd the painter and hath stelld, thy beautys form in table of my heart\"\n",
    "\n",
    "def mast_dist(string1):\n",
    "    dist = 0\n",
    "    \n",
    "    for i in range(len(master_sequence)):\n",
    "        if string1[i] != master_sequence[i]:\n",
    "            dist = dist+1\n",
    "            \n",
    "    return dist"
   ]
  },
  {
   "cell_type": "markdown",
   "metadata": {},
   "source": [
    "### 2.2 Generate N random sequences of length L in the letters of the alphabet (e.g. N=10)"
   ]
  },
  {
   "cell_type": "code",
   "execution_count": 14,
   "metadata": {},
   "outputs": [
    {
     "name": "stdout",
     "output_type": "stream",
     "text": [
      "86\n",
      "mine eye hath pcayd ,he painter and gath htelld, thy beautys gorm in table of my henrt 6\n",
      " ine eyn hath playd the painter and hath stelld,tthy begutyscform in tabge of my heart 6\n",
      "mineueje hath playd the paintorhznd hpth stelld, thy beautys form in table of py heart 7\n",
      "mine eye hath glayd the painber abd hathostellm, thy beavtts form in table of my heard 8\n",
      "mine eye rath playd the bainter agx hath stelld, thy beautys qormpin table of uyqheart 8\n",
      "qine eyekhath playd bme painter nnd hath stelld, lhy beautys form ip table nf my heart 8\n",
      "mins eye waep playd tae iainxer and hath stelldt thy beautys form in tbblo oc mynzeabx 15\n",
      "mineeeye hath playd the painter anx hath stelld, thysbeautys form in table oftmy hegrt 5\n",
      "mine ey, hathzplayd thk painter and haty stelld, thy ,eautysnform in table oz my heart 7\n",
      "mineoeye hath plryd she pacnter and hath srelli, thy beauty, form in tyble ofzmy heart 9\n"
     ]
    }
   ],
   "source": [
    "alphabet = ['a', 'b', 'c', 'd', 'e', 'f', 'g', 'h', 'i', 'j', 'k', 'l', 'm', 'n', 'o', 'p', 'q', 'r', 's', 't', 'u', 'v', 'w', 'x', 'y', 'z', ' ', ',']\n",
    "# alphabet accounts for ' ' and ','\n",
    "\n",
    "rand_sequence_list = []\n",
    "parent = \"mine eye hath playd the painter and hath stelld, thy beautys form in table of my heart\"\n",
    "print(len(parent))\n",
    "prob = 0.1\n",
    "N = 10\n",
    "\n",
    "for i in range(N):\n",
    "    rand_seq = ''\n",
    "    for character in parent:\n",
    "        if random.random()>prob:\n",
    "            rand_seq = rand_seq + character\n",
    "        else:\n",
    "            rand_seq = rand_seq + random.choice(alphabet)\n",
    "    rand_sequence_list.append(rand_seq)\n",
    "    print(rand_seq, mast_dist(rand_seq))\n",
    "    "
   ]
  },
  {
   "cell_type": "markdown",
   "metadata": {},
   "source": [
    "### 2.3 - Select that sequence out of the N sequences that you have just generated, which has the smallest distance to the ‘master sequence’ you picked above"
   ]
  },
  {
   "cell_type": "code",
   "execution_count": 15,
   "metadata": {},
   "outputs": [
    {
     "name": "stdout",
     "output_type": "stream",
     "text": [
      "5\n",
      "mineeeye hath playd the painter anx hath stelld, thysbeautys form in table oftmy hegrt\n"
     ]
    }
   ],
   "source": [
    "smallest = min(mast_dist(x) for x in rand_sequence_list)\n",
    "print(smallest)\n",
    "\n",
    "\n",
    "for i in rand_sequence_list:\n",
    "    if mast_dist(i) == smallest:\n",
    "        initialiser = i\n",
    "\n",
    "print(initialiser)\n"
   ]
  },
  {
   "cell_type": "markdown",
   "metadata": {},
   "source": [
    "## 3. Evolution"
   ]
  },
  {
   "cell_type": "markdown",
   "metadata": {},
   "source": [
    "## Make N error-prone copies (‘offspring’) of this sequence: that is, with a probability, each letter in this sequence can randomly change to another letter of the alphabet (mutation) in this copying process\n",
    "\n",
    "## - If any offspring has a smaller distance to the master sequence select the one with the smallest distance and use that to create a new generation of offspring, otherwise use the previous one again.\n"
   ]
  },
  {
   "cell_type": "code",
   "execution_count": 16,
   "metadata": {},
   "outputs": [
    {
     "name": "stdout",
     "output_type": "stream",
     "text": [
      "45 ynllhshkjnqiunvwiwrcvzykm fodhebidxv dquaojjrigyc,teudp,qebkccdxpqxrdfhcynqgnvlfv,wquq 86\n"
     ]
    },
    {
     "data": {
      "image/png": "[encoded data removed]",
      "text/plain": [
       "Graphics object consisting of 1 graphics primitive"
      ]
     },
     "execution_count": 16,
     "metadata": {},
     "output_type": "execute_result"
    }
   ],
   "source": [
    "parent = initialiser\n",
    "\n",
    "dist_list = []\n",
    "\n",
    "gens = 150\n",
    "prob = 0.1\n",
    "\n",
    "for gen in range(gens):\n",
    "    child = ''\n",
    "    for character in parent:\n",
    "        if random.random()>prob:\n",
    "            child = child + character\n",
    "        else:\n",
    "            child = child + random.choice(alphabet)\n",
    "    if mast_dist(parent) < mast_dist(child): # ensures the corruption process only gets worse\n",
    "        parent = child\n",
    "    dist_list.append([gen, mast_dist(parent)])\n",
    "    if mast_dist(parent) == len(parent): # stops the corruption process once maximum corruption reached\n",
    "        corrupted_string = parent\n",
    "        print(gen, parent, mast_dist(parent))\n",
    "        break\n",
    "\n",
    "point(dist_list)\n",
    "\n"
   ]
  },
  {
   "cell_type": "markdown",
   "metadata": {},
   "source": [
    "We can see that the corruption of the string is very effective at the beginning of the corruption process. This is because early in the corruption process, nearly all characters of the initialising string are susceptible to becoming corrupted. As more characters of the string become corrupted over generations, the ability to corrupt the remaining uncorrupted characters becomes increasingly difficult. This can be seen by the plot becoming shallower in later generations."
   ]
  },
  {
   "cell_type": "markdown",
   "metadata": {},
   "source": [
    "## 4. Termination - Repeat the process for a number of G generations till you have achieved the master sequence through evolution."
   ]
  },
  {
   "cell_type": "code",
   "execution_count": 17,
   "metadata": {},
   "outputs": [
    {
     "data": {
      "image/png": "[encoded data removed]",
      "text/plain": [
       "Graphics object consisting of 1 graphics primitive"
      ]
     },
     "execution_count": 17,
     "metadata": {},
     "output_type": "execute_result"
    }
   ],
   "source": [
    "dist_list = []\n",
    "\n",
    "parent = corrupted_string\n",
    "\n",
    "gens = 1000000\n",
    "prob = 0.1\n",
    "\n",
    "for gen in range(gens):\n",
    "    child = ''\n",
    "    for character in parent:\n",
    "        if random.random()>prob:\n",
    "            child = child + character\n",
    "        else:\n",
    "            child = child + random.choice(alphabet)\n",
    "    if mast_dist(parent) > mast_dist(child): # ensures that corrupted string only gets better\n",
    "        parent = child\n",
    "    dist_list.append([gen, mast_dist(parent)])\n",
    "    if mast_dist(parent) == 0: # stops the optimisation process once master string is reached\n",
    "        print(gen, parent, mast_dist(parent))\n",
    "        break\n",
    "        \n",
    "point(dist_list)"
   ]
  },
  {
   "cell_type": "markdown",
   "metadata": {},
   "source": [
    "The above code has now become an optimisation algorithm going in the direction of decreasing hamming distance\n",
    "\n",
    "We can see that the optimisation of the corrupted string is very effective at the beginning of the optimisation process. This is because early in the optimisation process, nearly all characters of the corrupted string are susceptible to becoming optimised to the master string. As more characters of the string become optimised over generations, the ability to optimise the remaining corrupted characters becomes increasingly difficult. This can be seen by the plot becoming shallower in later generations."
   ]
  },
  {
   "cell_type": "code",
   "execution_count": 18,
   "metadata": {},
   "outputs": [
    {
     "name": "stdout",
     "output_type": "stream",
     "text": [
      "999999 mine eye haxh playd the qa,nter and hath stellg, thy beautys form in table of my heart 4\n"
     ]
    }
   ],
   "source": [
    "print(gen, parent, mast_dist(parent))"
   ]
  },
  {
   "cell_type": "markdown",
   "metadata": {},
   "source": [
    "We can see that despite running the optimisation process for 1 million generations, the offspring do not converge to the master sequence. As with the corruption process, optimisation "
   ]
  },
  {
   "cell_type": "markdown",
   "metadata": {},
   "source": [
    "# Advanced Scenario"
   ]
  },
  {
   "cell_type": "markdown",
   "metadata": {},
   "source": [
    "## 1. Investigate how many generations G it typically takes to reach this master sequence"
   ]
  },
  {
   "cell_type": "markdown",
   "metadata": {},
   "source": [
    "As seen in the basic scenario, the optimisation solution did not converge to the master string despite running for 1 million generations. Therefore, we will investigate the effect of different parameters such as string length, probability and the alphabet on the number of generations needed to converge to the master sequence."
   ]
  },
  {
   "cell_type": "markdown",
   "metadata": {},
   "source": [
    "### 1.1 Effect of string length"
   ]
  },
  {
   "cell_type": "code",
   "execution_count": 51,
   "metadata": {},
   "outputs": [],
   "source": [
    "master_sequence = \"mine eye hath playd\"\n",
    "\n",
    "def mast_dist(string1):\n",
    "    dist = 0\n",
    "    \n",
    "    for i in range(len(master_sequence)):\n",
    "        if string1[i] != master_sequence[i]:\n",
    "            dist = dist+1\n",
    "            \n",
    "    return dist"
   ]
  },
  {
   "cell_type": "code",
   "execution_count": 52,
   "metadata": {},
   "outputs": [
    {
     "name": "stdout",
     "output_type": "stream",
     "text": [
      "19\n",
      "oine eyk hathrpiayd 4\n",
      "mine eyezhath prayd 2\n",
      "mine eye hath playd 0\n",
      "mine eye hath playd 0\n",
      "mise eye uath glayt 4\n",
      "yinudeye hath playd 3\n",
      "mine fye hath playd 1\n",
      "mine eye hash playd 1\n",
      "mine eye hath playd 0\n",
      "mine eye hatl,playd 2\n"
     ]
    }
   ],
   "source": [
    "alphabet = ['a', 'b', 'c', 'd', 'e', 'f', 'g', 'h', 'i', 'j', 'k', 'l', 'm', 'n', 'o', 'p', 'q', 'r', 's', 't', 'u', 'v', 'w', 'x', 'y', 'z', ' ', ',']\n",
    "# alphabet accounts for ' ' and ','\n",
    "\n",
    "rand_sequence_list = []\n",
    "parent = \"mine eye hath playd\"\n",
    "print(len(parent))\n",
    "prob = 0.1\n",
    "N = 10\n",
    "\n",
    "for i in range(N):\n",
    "    rand_seq = ''\n",
    "    for character in parent:\n",
    "        if random.random()>prob:\n",
    "            rand_seq = rand_seq + character\n",
    "        else:\n",
    "            rand_seq = rand_seq + random.choice(alphabet)\n",
    "    rand_sequence_list.append(rand_seq)\n",
    "    print(rand_seq, mast_dist(rand_seq))"
   ]
  },
  {
   "cell_type": "code",
   "execution_count": 53,
   "metadata": {},
   "outputs": [
    {
     "name": "stdout",
     "output_type": "stream",
     "text": [
      "0\n",
      "mine eye hath playd\n"
     ]
    }
   ],
   "source": [
    "smallest = min(mast_dist(x) for x in rand_sequence_list)\n",
    "print(smallest)\n",
    "\n",
    "\n",
    "for i in rand_sequence_list:\n",
    "    if mast_dist(i) == smallest:\n",
    "        initialiser = i\n",
    "\n",
    "print(initialiser)"
   ]
  },
  {
   "cell_type": "code",
   "execution_count": 54,
   "metadata": {},
   "outputs": [
    {
     "name": "stdout",
     "output_type": "stream",
     "text": [
      "46 iagawmtqbugnioxuxke 19\n"
     ]
    },
    {
     "data": {
      "image/png": "[encoded data removed]",
      "text/plain": [
       "Graphics object consisting of 1 graphics primitive"
      ]
     },
     "execution_count": 54,
     "metadata": {},
     "output_type": "execute_result"
    }
   ],
   "source": [
    "parent = initialiser\n",
    "\n",
    "dist_list = []\n",
    "\n",
    "gens = 150\n",
    "prob = 0.1\n",
    "\n",
    "for gen in range(gens):\n",
    "    child = ''\n",
    "    for character in parent:\n",
    "        if random.random()>prob:\n",
    "            child = child + character\n",
    "        else:\n",
    "            child = child + random.choice(alphabet)\n",
    "    if mast_dist(parent) < mast_dist(child): # ensures the corruption process only gets worse\n",
    "        parent = child\n",
    "    dist_list.append([gen, mast_dist(parent)])\n",
    "    if mast_dist(parent) == len(parent): # stops the corruption process once maximum corruption reached\n",
    "        corrupted_string = parent\n",
    "        print(gen, parent, mast_dist(parent))\n",
    "        break\n",
    "\n",
    "point(dist_list)"
   ]
  },
  {
   "cell_type": "code",
   "execution_count": 55,
   "metadata": {},
   "outputs": [
    {
     "name": "stdout",
     "output_type": "stream",
     "text": [
      "[2180, 3091, 4653, 5760, 2707, 1760, 5473, 6236, 2328, 7259, 2857, 2766, 7019, 5562, 6040, 4848, 5139, 2117, 7190, 3793, 2797, 2730, 5223, 2782, 4470, 1860, 4617, 1958, 2885, 6157, 4165, 2441, 11590, 1791, 3804, 2489, 4628, 2366, 3518, 3780, 3541, 2900, 4109, 3587, 4244, 2573, 2592, 2710, 3072, 5225]\n"
     ]
    }
   ],
   "source": [
    "dist_list = []\n",
    "\n",
    "parent = corrupted_string\n",
    "\n",
    "gens = 1000000\n",
    "prob = 0.1\n",
    "\n",
    "number_of_runs = 50\n",
    "\n",
    "generation_list = []\n",
    "\n",
    "for i in range(number_of_runs):\n",
    "    parent = corrupted_string\n",
    "    for gen in range(gens):\n",
    "        child = ''\n",
    "        for character in parent:\n",
    "            if random.random()>prob:\n",
    "                child = child + character\n",
    "            else:\n",
    "                child = child + random.choice(alphabet)\n",
    "        if mast_dist(parent) > mast_dist(child):\n",
    "            parent = child\n",
    "        #dist_list.append([gen, mast_dist(parent)])\n",
    "        if mast_dist(parent) == 0:\n",
    "            generation_list.append(gen)\n",
    "            #print(gen, parent, mast_dist(parent))\n",
    "            break\n",
    "\n",
    "print(generation_list)\n",
    "#point(dist_list)\n"
   ]
  },
  {
   "cell_type": "code",
   "execution_count": 56,
   "metadata": {},
   "outputs": [
    {
     "data": {
      "image/png": "[encoded data removed]",
      "text/plain": [
       "<Figure size 432x288 with 1 Axes>"
      ]
     },
     "metadata": {
      "needs_background": "light"
     },
     "output_type": "display_data"
    }
   ],
   "source": [
    "plt.hist(generation_list, bins = 5)\n",
    "plt.show()"
   ]
  },
  {
   "cell_type": "markdown",
   "metadata": {},
   "source": [
    "Shortening the length of the string has significantly reduced the number of generations needed to reach the master string. It can be concluded that the shorter the length of the string, the less time needed to converge to the master string.\n",
    "\n",
    "With a probbility of 0.1, the vast majority of runs reaching the master sequence approximately between 2000 and 8000 generations"
   ]
  },
  {
   "cell_type": "markdown",
   "metadata": {},
   "source": [
    "### 1.2 Effect of probability"
   ]
  },
  {
   "cell_type": "code",
   "execution_count": 57,
   "metadata": {},
   "outputs": [
    {
     "name": "stdout",
     "output_type": "stream",
     "text": [
      "[3848, 4070, 5992, 4941, 2639, 2849, 10782, 2822, 3618, 3434, 4547, 2925, 3793, 4070, 5449, 3570, 3930, 4247, 1804, 4184, 2489, 4100, 3850, 4170, 6251, 4671, 4527, 3701, 2453, 3497, 2651, 2776, 4424, 5222, 2048, 5599, 1956, 7360, 3439, 2702, 2720, 4878, 2344, 2269, 4418, 6689, 2582, 3515, 2729, 1743]\n"
     ]
    }
   ],
   "source": [
    "dist_list = []\n",
    "\n",
    "parent = corrupted_string\n",
    "\n",
    "gens = 1000000\n",
    "prob = 0.05\n",
    "\n",
    "number_of_runs = 50\n",
    "\n",
    "generation_list = []\n",
    "\n",
    "for i in range(number_of_runs):\n",
    "    parent = corrupted_string\n",
    "    for gen in range(gens):\n",
    "        child = ''\n",
    "        for character in parent:\n",
    "            if random.random()>prob:\n",
    "                child = child + character\n",
    "            else:\n",
    "                child = child + random.choice(alphabet)\n",
    "        if mast_dist(parent) > mast_dist(child):\n",
    "            parent = child\n",
    "        #dist_list.append([gen, mast_dist(parent)])\n",
    "        if mast_dist(parent) == 0:\n",
    "            generation_list.append(gen)\n",
    "            #print(gen, parent, mast_dist(parent))\n",
    "            break\n",
    "\n",
    "print(generation_list)\n",
    "#point(dist_list)\n"
   ]
  },
  {
   "cell_type": "code",
   "execution_count": 58,
   "metadata": {},
   "outputs": [
    {
     "data": {
      "image/png": "[encoded data removed]",
      "text/plain": [
       "<Figure size 432x288 with 1 Axes>"
      ]
     },
     "metadata": {
      "needs_background": "light"
     },
     "output_type": "display_data"
    }
   ],
   "source": [
    "plt.hist(generation_list, bins = 5)\n",
    "plt.show()"
   ]
  },
  {
   "cell_type": "markdown",
   "metadata": {},
   "source": [
    "Halving the probability from 0.1 to 0.05 appears to have the effect of causing the number of generations to reach the master sequence to be reached quicker with the vast majority of runs reaching the master sequence approximately between 2000 and 7000 generations"
   ]
  },
  {
   "cell_type": "code",
   "execution_count": 60,
   "metadata": {},
   "outputs": [
    {
     "name": "stdout",
     "output_type": "stream",
     "text": [
      "[14536, 12754, 35843, 8523, 16906, 6316, 18728, 15310, 6252, 11162, 13807, 12196, 17990, 12206, 21709, 8401, 8326, 8524, 16719, 6574, 10210, 23988, 6335, 11022, 18288, 14737, 12475, 7492, 13137, 4870, 27619, 11535, 23520, 12634, 11248, 16008, 9673, 4858, 19988, 9941, 7392, 14341, 9261, 12244, 4838, 5472, 9745, 7813, 15159, 18789]\n"
     ]
    }
   ],
   "source": [
    "dist_list = []\n",
    "\n",
    "parent = corrupted_string\n",
    "\n",
    "gens = 1000000\n",
    "prob = 0.2\n",
    "\n",
    "number_of_runs = 50\n",
    "\n",
    "generation_list = []\n",
    "\n",
    "for i in range(number_of_runs):\n",
    "    parent = corrupted_string\n",
    "    for gen in range(gens):\n",
    "        child = ''\n",
    "        for character in parent:\n",
    "            if random.random()>prob:\n",
    "                child = child + character\n",
    "            else:\n",
    "                child = child + random.choice(alphabet)\n",
    "        if mast_dist(parent) > mast_dist(child):\n",
    "            parent = child\n",
    "        #dist_list.append([gen, mast_dist(parent)])\n",
    "        if mast_dist(parent) == 0:\n",
    "            generation_list.append(gen)\n",
    "            #print(gen, parent, mast_dist(parent))\n",
    "            break\n",
    "\n",
    "print(generation_list)\n",
    "#point(dist_list)"
   ]
  },
  {
   "cell_type": "code",
   "execution_count": 61,
   "metadata": {},
   "outputs": [
    {
     "data": {
      "image/png": "[encoded data removed]",
      "text/plain": [
       "<Figure size 432x288 with 1 Axes>"
      ]
     },
     "metadata": {
      "needs_background": "light"
     },
     "output_type": "display_data"
    }
   ],
   "source": [
    "plt.hist(generation_list, bins = 5)\n",
    "plt.show()"
   ]
  },
  {
   "cell_type": "markdown",
   "metadata": {},
   "source": [
    "Doubling the probability from 0.1 to 0.2 appears to have the effect of causing the number of generations to reach the master sequence to be reached after more generations with the vast majority of runs reaching the master sequence approximately between 5000 and 17000 generations"
   ]
  },
  {
   "cell_type": "markdown",
   "metadata": {},
   "source": [
    "### 1.3 Effect of alphabet"
   ]
  },
  {
   "cell_type": "code",
   "execution_count": 63,
   "metadata": {},
   "outputs": [
    {
     "name": "stdout",
     "output_type": "stream",
     "text": [
      "[1602, 2030, 1098, 1167, 1229, 1098, 1481, 1036, 1074, 3210, 1684, 1526, 1189, 1856, 1528, 2517, 1088, 1191, 1045, 820, 1163, 1329, 3679, 1501, 2448, 1235, 1375, 567, 1321, 1640, 1733, 728, 1693, 1196, 1674, 668, 1222, 995, 3013, 2186, 1949, 870, 1128, 1287, 2453, 1487, 1088, 2011, 804, 2125]\n"
     ]
    }
   ],
   "source": [
    "alphabet = ['a', 'd', 'e', 'h', 'i', 'l', 'm', 'n', 'p', 't', 'y', ' ']\n",
    "\n",
    "dist_list = []\n",
    "\n",
    "parent = corrupted_string\n",
    "\n",
    "gens = 1000000\n",
    "prob = 0.1\n",
    "\n",
    "number_of_runs = 50\n",
    "\n",
    "generation_list = []\n",
    "\n",
    "for i in range(number_of_runs):\n",
    "    parent = corrupted_string\n",
    "    for gen in range(gens):\n",
    "        child = ''\n",
    "        for character in parent:\n",
    "            if random.random()>prob:\n",
    "                child = child + character\n",
    "            else:\n",
    "                child = child + random.choice(alphabet)\n",
    "        if mast_dist(parent) > mast_dist(child):\n",
    "            parent = child\n",
    "        #dist_list.append([gen, mast_dist(parent)])\n",
    "        if mast_dist(parent) == 0:\n",
    "            generation_list.append(gen)\n",
    "            #print(gen, parent, mast_dist(parent))\n",
    "            break\n",
    "\n",
    "print(generation_list)\n",
    "#point(dist_list)\n"
   ]
  },
  {
   "cell_type": "code",
   "execution_count": 64,
   "metadata": {},
   "outputs": [
    {
     "data": {
      "image/png": "[encoded data removed]",
      "text/plain": [
       "<Figure size 432x288 with 1 Axes>"
      ]
     },
     "metadata": {
      "needs_background": "light"
     },
     "output_type": "display_data"
    }
   ],
   "source": [
    "plt.hist(generation_list, bins = 5)\n",
    "plt.show()"
   ]
  },
  {
   "cell_type": "markdown",
   "metadata": {},
   "source": [
    "The alphabet now only includes the characters that are part of the master string and the probability has been kept at 0.1. Reducing the characters of the alphabet causes the master sequence to be reached sooner as the vast majority of runs reachi the master sequence approximately between 550 and 1800 generations"
   ]
  },
  {
   "cell_type": "markdown",
   "metadata": {},
   "source": [
    "### 1.4 Application of evolutionary algorithms in the workplace"
   ]
  },
  {
   "cell_type": "markdown",
   "metadata": {},
   "source": [
    "- Evaluation of pharmaceutical compunds to create more effective treatments\n",
    "- Evovle and optimise deep learning archietcture\n",
    "- Biological system modelling\n",
    "\n",
    "Cognizant. _Model and prescribe optimal outcomes_. www.cognizant.com. Evolutionary AI | Cognizant. [online] Available at: https://www.cognizant.com/us/en/ai/evolutionary-ai."
   ]
  },
  {
   "cell_type": "code",
   "execution_count": null,
   "metadata": {},
   "outputs": [],
   "source": []
  }
 ],
 "metadata": {
  "kernelspec": {
   "display_name": "Python 3 (ipykernel)",
   "language": "python",
   "name": "python3"
  },
  "language_info": {
   "codemirror_mode": {
    "name": "ipython",
    "version": 3
   },
   "file_extension": ".py",
   "mimetype": "text/x-python",
   "name": "python",
   "nbconvert_exporter": "python",
   "pygments_lexer": "ipython3",
   "version": "3.8.16"
  }
 },
 "nbformat": 4,
 "nbformat_minor": 2
}
